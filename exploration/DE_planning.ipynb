{
 "cells": [
  {
   "cell_type": "code",
   "execution_count": 7,
   "metadata": {},
   "outputs": [],
   "source": [
    "import pandas as pd\n",
    "from pandas.io.json import json_normalize\n",
    "import numpy as np\n",
    "import requests as req, zipfile, io\n",
    "import json\n",
    "import quandl as qdl\n",
    "import configparser\n",
    "import time\n",
    "import datetime\n",
    "\n",
    "config = configparser.ConfigParser()\n",
    "config.read('../dl.cfg')\n",
    "\n",
    "qdl.ApiConfig.api_key = config['QUANDL']['quandl_key']"
   ]
  },
  {
   "cell_type": "code",
   "execution_count": 15,
   "metadata": {},
   "outputs": [],
   "source": [
    "def getTickers(file_path):\n",
    "    df = pd.read_csv(file_path)\n",
    "    tickers = df.iloc[:,0].tolist()\n",
    "    return tickers\n",
    "\n",
    "tickers = getTickers(\"../data/WIKI_metadata.csv\")"
   ]
  },
  {
   "cell_type": "markdown",
   "metadata": {},
   "source": [
    "## AAII Investor Sentiment"
   ]
  },
  {
   "cell_type": "code",
   "execution_count": 16,
   "metadata": {},
   "outputs": [],
   "source": [
    "investor_sentiment = qdl.get(\"AAII/AAII_SENTIMENT\")"
   ]
  },
  {
   "cell_type": "code",
   "execution_count": 27,
   "metadata": {},
   "outputs": [
    {
     "data": {
      "text/html": [
       "<div>\n",
       "<style scoped>\n",
       "    .dataframe tbody tr th:only-of-type {\n",
       "        vertical-align: middle;\n",
       "    }\n",
       "\n",
       "    .dataframe tbody tr th {\n",
       "        vertical-align: top;\n",
       "    }\n",
       "\n",
       "    .dataframe thead th {\n",
       "        text-align: right;\n",
       "    }\n",
       "</style>\n",
       "<table border=\"1\" class=\"dataframe\">\n",
       "  <thead>\n",
       "    <tr style=\"text-align: right;\">\n",
       "      <th></th>\n",
       "      <th>Bullish</th>\n",
       "      <th>Neutral</th>\n",
       "      <th>Bearish</th>\n",
       "      <th>Total</th>\n",
       "      <th>Bullish 8-Week Mov Avg</th>\n",
       "      <th>Bull-Bear Spread</th>\n",
       "      <th>Bullish Average</th>\n",
       "      <th>Bullish Average + St. Dev</th>\n",
       "      <th>Bullish Average - St. Dev</th>\n",
       "    </tr>\n",
       "    <tr>\n",
       "      <th>Date</th>\n",
       "      <th></th>\n",
       "      <th></th>\n",
       "      <th></th>\n",
       "      <th></th>\n",
       "      <th></th>\n",
       "      <th></th>\n",
       "      <th></th>\n",
       "      <th></th>\n",
       "      <th></th>\n",
       "    </tr>\n",
       "  </thead>\n",
       "  <tbody>\n",
       "    <tr>\n",
       "      <th>1987-06-26</th>\n",
       "      <td>NaN</td>\n",
       "      <td>NaN</td>\n",
       "      <td>NaN</td>\n",
       "      <td>NaN</td>\n",
       "      <td>NaN</td>\n",
       "      <td>NaN</td>\n",
       "      <td>0.386014</td>\n",
       "      <td>0.489178</td>\n",
       "      <td>0.28285</td>\n",
       "    </tr>\n",
       "    <tr>\n",
       "      <th>1987-07-17</th>\n",
       "      <td>NaN</td>\n",
       "      <td>NaN</td>\n",
       "      <td>NaN</td>\n",
       "      <td>NaN</td>\n",
       "      <td>NaN</td>\n",
       "      <td>NaN</td>\n",
       "      <td>0.386014</td>\n",
       "      <td>0.489178</td>\n",
       "      <td>0.28285</td>\n",
       "    </tr>\n",
       "    <tr>\n",
       "      <th>1987-07-24</th>\n",
       "      <td>0.36</td>\n",
       "      <td>0.50</td>\n",
       "      <td>0.14</td>\n",
       "      <td>1.0</td>\n",
       "      <td>NaN</td>\n",
       "      <td>0.22</td>\n",
       "      <td>0.386014</td>\n",
       "      <td>0.489178</td>\n",
       "      <td>0.28285</td>\n",
       "    </tr>\n",
       "    <tr>\n",
       "      <th>1987-07-31</th>\n",
       "      <td>0.26</td>\n",
       "      <td>0.48</td>\n",
       "      <td>0.26</td>\n",
       "      <td>1.0</td>\n",
       "      <td>NaN</td>\n",
       "      <td>0.00</td>\n",
       "      <td>0.386014</td>\n",
       "      <td>0.489178</td>\n",
       "      <td>0.28285</td>\n",
       "    </tr>\n",
       "    <tr>\n",
       "      <th>1987-08-07</th>\n",
       "      <td>0.56</td>\n",
       "      <td>0.15</td>\n",
       "      <td>0.29</td>\n",
       "      <td>1.0</td>\n",
       "      <td>NaN</td>\n",
       "      <td>0.27</td>\n",
       "      <td>0.386014</td>\n",
       "      <td>0.489178</td>\n",
       "      <td>0.28285</td>\n",
       "    </tr>\n",
       "  </tbody>\n",
       "</table>\n",
       "</div>"
      ],
      "text/plain": [
       "            Bullish  Neutral  Bearish  Total  Bullish 8-Week Mov Avg  \\\n",
       "Date                                                                   \n",
       "1987-06-26      NaN      NaN      NaN    NaN                     NaN   \n",
       "1987-07-17      NaN      NaN      NaN    NaN                     NaN   \n",
       "1987-07-24     0.36     0.50     0.14    1.0                     NaN   \n",
       "1987-07-31     0.26     0.48     0.26    1.0                     NaN   \n",
       "1987-08-07     0.56     0.15     0.29    1.0                     NaN   \n",
       "\n",
       "            Bull-Bear Spread  Bullish Average  Bullish Average + St. Dev  \\\n",
       "Date                                                                       \n",
       "1987-06-26               NaN         0.386014                   0.489178   \n",
       "1987-07-17               NaN         0.386014                   0.489178   \n",
       "1987-07-24              0.22         0.386014                   0.489178   \n",
       "1987-07-31              0.00         0.386014                   0.489178   \n",
       "1987-08-07              0.27         0.386014                   0.489178   \n",
       "\n",
       "            Bullish Average - St. Dev  \n",
       "Date                                   \n",
       "1987-06-26                    0.28285  \n",
       "1987-07-17                    0.28285  \n",
       "1987-07-24                    0.28285  \n",
       "1987-07-31                    0.28285  \n",
       "1987-08-07                    0.28285  "
      ]
     },
     "execution_count": 27,
     "metadata": {},
     "output_type": "execute_result"
    }
   ],
   "source": [
    "filter_sp = investor_sentiment.columns[-3:]\n",
    "\n",
    "filtered_sentiment = investor_sentiment.iloc[:, :-3]\n",
    "filtered_sentiment.head()"
   ]
  },
  {
   "cell_type": "code",
   "execution_count": 44,
   "metadata": {},
   "outputs": [],
   "source": [
    "def get_investor_sentiment():\n",
    "    qdl.ApiConfig.api_key = config['QUANDL']['quandl_key']\n",
    "    raw_sentiments = qdl.get(\"AAII/AAII_SENTIMENT\", paginate=True)\n",
    "    filtered_sentiments = raw_sentiments.iloc[:, :-3]\n",
    "    finished_sentiments = filtered_sentiments.reset_index()\n",
    "    return finished_sentiments"
   ]
  },
  {
   "cell_type": "code",
   "execution_count": 45,
   "metadata": {},
   "outputs": [
    {
     "data": {
      "text/html": [
       "<div>\n",
       "<style scoped>\n",
       "    .dataframe tbody tr th:only-of-type {\n",
       "        vertical-align: middle;\n",
       "    }\n",
       "\n",
       "    .dataframe tbody tr th {\n",
       "        vertical-align: top;\n",
       "    }\n",
       "\n",
       "    .dataframe thead th {\n",
       "        text-align: right;\n",
       "    }\n",
       "</style>\n",
       "<table border=\"1\" class=\"dataframe\">\n",
       "  <thead>\n",
       "    <tr style=\"text-align: right;\">\n",
       "      <th></th>\n",
       "      <th>Date</th>\n",
       "      <th>Bullish</th>\n",
       "      <th>Neutral</th>\n",
       "      <th>Bearish</th>\n",
       "      <th>Total</th>\n",
       "      <th>Bullish 8-Week Mov Avg</th>\n",
       "      <th>Bull-Bear Spread</th>\n",
       "      <th>Bullish Average</th>\n",
       "      <th>Bullish Average + St. Dev</th>\n",
       "      <th>Bullish Average - St. Dev</th>\n",
       "    </tr>\n",
       "  </thead>\n",
       "  <tbody>\n",
       "    <tr>\n",
       "      <th>0</th>\n",
       "      <td>1987-06-26</td>\n",
       "      <td>NaN</td>\n",
       "      <td>NaN</td>\n",
       "      <td>NaN</td>\n",
       "      <td>NaN</td>\n",
       "      <td>NaN</td>\n",
       "      <td>NaN</td>\n",
       "      <td>0.386014</td>\n",
       "      <td>0.489178</td>\n",
       "      <td>0.28285</td>\n",
       "    </tr>\n",
       "    <tr>\n",
       "      <th>1</th>\n",
       "      <td>1987-07-17</td>\n",
       "      <td>NaN</td>\n",
       "      <td>NaN</td>\n",
       "      <td>NaN</td>\n",
       "      <td>NaN</td>\n",
       "      <td>NaN</td>\n",
       "      <td>NaN</td>\n",
       "      <td>0.386014</td>\n",
       "      <td>0.489178</td>\n",
       "      <td>0.28285</td>\n",
       "    </tr>\n",
       "    <tr>\n",
       "      <th>2</th>\n",
       "      <td>1987-07-24</td>\n",
       "      <td>0.36</td>\n",
       "      <td>0.50</td>\n",
       "      <td>0.14</td>\n",
       "      <td>1.0</td>\n",
       "      <td>NaN</td>\n",
       "      <td>0.22</td>\n",
       "      <td>0.386014</td>\n",
       "      <td>0.489178</td>\n",
       "      <td>0.28285</td>\n",
       "    </tr>\n",
       "    <tr>\n",
       "      <th>3</th>\n",
       "      <td>1987-07-31</td>\n",
       "      <td>0.26</td>\n",
       "      <td>0.48</td>\n",
       "      <td>0.26</td>\n",
       "      <td>1.0</td>\n",
       "      <td>NaN</td>\n",
       "      <td>0.00</td>\n",
       "      <td>0.386014</td>\n",
       "      <td>0.489178</td>\n",
       "      <td>0.28285</td>\n",
       "    </tr>\n",
       "    <tr>\n",
       "      <th>4</th>\n",
       "      <td>1987-08-07</td>\n",
       "      <td>0.56</td>\n",
       "      <td>0.15</td>\n",
       "      <td>0.29</td>\n",
       "      <td>1.0</td>\n",
       "      <td>NaN</td>\n",
       "      <td>0.27</td>\n",
       "      <td>0.386014</td>\n",
       "      <td>0.489178</td>\n",
       "      <td>0.28285</td>\n",
       "    </tr>\n",
       "  </tbody>\n",
       "</table>\n",
       "</div>"
      ],
      "text/plain": [
       "        Date  Bullish  Neutral  Bearish  Total  Bullish 8-Week Mov Avg  \\\n",
       "0 1987-06-26      NaN      NaN      NaN    NaN                     NaN   \n",
       "1 1987-07-17      NaN      NaN      NaN    NaN                     NaN   \n",
       "2 1987-07-24     0.36     0.50     0.14    1.0                     NaN   \n",
       "3 1987-07-31     0.26     0.48     0.26    1.0                     NaN   \n",
       "4 1987-08-07     0.56     0.15     0.29    1.0                     NaN   \n",
       "\n",
       "   Bull-Bear Spread  Bullish Average  Bullish Average + St. Dev  \\\n",
       "0               NaN         0.386014                   0.489178   \n",
       "1               NaN         0.386014                   0.489178   \n",
       "2              0.22         0.386014                   0.489178   \n",
       "3              0.00         0.386014                   0.489178   \n",
       "4              0.27         0.386014                   0.489178   \n",
       "\n",
       "   Bullish Average - St. Dev  \n",
       "0                    0.28285  \n",
       "1                    0.28285  \n",
       "2                    0.28285  \n",
       "3                    0.28285  \n",
       "4                    0.28285  "
      ]
     },
     "execution_count": 45,
     "metadata": {},
     "output_type": "execute_result"
    }
   ],
   "source": [
    "df = get_investor_sentiment()\n",
    "df.head()"
   ]
  },
  {
   "cell_type": "markdown",
   "metadata": {},
   "source": [
    "## Yale S&P Composite Data"
   ]
  },
  {
   "cell_type": "code",
   "execution_count": 31,
   "metadata": {},
   "outputs": [],
   "source": [
    "raw_sp_comp = qdl.get(\"YALE/SPCOMP\", paginate=True)"
   ]
  },
  {
   "cell_type": "code",
   "execution_count": 34,
   "metadata": {},
   "outputs": [
    {
     "data": {
      "text/html": [
       "<div>\n",
       "<style scoped>\n",
       "    .dataframe tbody tr th:only-of-type {\n",
       "        vertical-align: middle;\n",
       "    }\n",
       "\n",
       "    .dataframe tbody tr th {\n",
       "        vertical-align: top;\n",
       "    }\n",
       "\n",
       "    .dataframe thead th {\n",
       "        text-align: right;\n",
       "    }\n",
       "</style>\n",
       "<table border=\"1\" class=\"dataframe\">\n",
       "  <thead>\n",
       "    <tr style=\"text-align: right;\">\n",
       "      <th></th>\n",
       "      <th>S&amp;P Composite</th>\n",
       "      <th>Dividend</th>\n",
       "      <th>Earnings</th>\n",
       "      <th>CPI</th>\n",
       "      <th>Long Interest Rate</th>\n",
       "      <th>Real Price</th>\n",
       "      <th>Real Dividend</th>\n",
       "      <th>Real Earnings</th>\n",
       "      <th>Cyclically Adjusted PE Ratio</th>\n",
       "    </tr>\n",
       "    <tr>\n",
       "      <th>Year</th>\n",
       "      <th></th>\n",
       "      <th></th>\n",
       "      <th></th>\n",
       "      <th></th>\n",
       "      <th></th>\n",
       "      <th></th>\n",
       "      <th></th>\n",
       "      <th></th>\n",
       "      <th></th>\n",
       "    </tr>\n",
       "  </thead>\n",
       "  <tbody>\n",
       "    <tr>\n",
       "      <th>1871-01-31</th>\n",
       "      <td>4.44</td>\n",
       "      <td>0.26</td>\n",
       "      <td>0.4</td>\n",
       "      <td>12.464061</td>\n",
       "      <td>5.320000</td>\n",
       "      <td>91.371503</td>\n",
       "      <td>5.350584</td>\n",
       "      <td>8.231667</td>\n",
       "      <td>NaN</td>\n",
       "    </tr>\n",
       "    <tr>\n",
       "      <th>1871-02-28</th>\n",
       "      <td>4.50</td>\n",
       "      <td>0.26</td>\n",
       "      <td>0.4</td>\n",
       "      <td>12.844641</td>\n",
       "      <td>5.323333</td>\n",
       "      <td>89.862377</td>\n",
       "      <td>5.192048</td>\n",
       "      <td>7.987767</td>\n",
       "      <td>NaN</td>\n",
       "    </tr>\n",
       "    <tr>\n",
       "      <th>1871-03-31</th>\n",
       "      <td>4.61</td>\n",
       "      <td>0.26</td>\n",
       "      <td>0.4</td>\n",
       "      <td>13.034972</td>\n",
       "      <td>5.326667</td>\n",
       "      <td>90.714810</td>\n",
       "      <td>5.116237</td>\n",
       "      <td>7.871133</td>\n",
       "      <td>NaN</td>\n",
       "    </tr>\n",
       "    <tr>\n",
       "      <th>1871-04-30</th>\n",
       "      <td>4.74</td>\n",
       "      <td>0.26</td>\n",
       "      <td>0.4</td>\n",
       "      <td>12.559226</td>\n",
       "      <td>5.330000</td>\n",
       "      <td>96.806121</td>\n",
       "      <td>5.310040</td>\n",
       "      <td>8.169293</td>\n",
       "      <td>NaN</td>\n",
       "    </tr>\n",
       "    <tr>\n",
       "      <th>1871-05-31</th>\n",
       "      <td>4.86</td>\n",
       "      <td>0.26</td>\n",
       "      <td>0.4</td>\n",
       "      <td>12.273812</td>\n",
       "      <td>5.333333</td>\n",
       "      <td>101.565027</td>\n",
       "      <td>5.433520</td>\n",
       "      <td>8.359261</td>\n",
       "      <td>NaN</td>\n",
       "    </tr>\n",
       "  </tbody>\n",
       "</table>\n",
       "</div>"
      ],
      "text/plain": [
       "            S&P Composite  Dividend  Earnings        CPI  Long Interest Rate  \\\n",
       "Year                                                                           \n",
       "1871-01-31           4.44      0.26       0.4  12.464061            5.320000   \n",
       "1871-02-28           4.50      0.26       0.4  12.844641            5.323333   \n",
       "1871-03-31           4.61      0.26       0.4  13.034972            5.326667   \n",
       "1871-04-30           4.74      0.26       0.4  12.559226            5.330000   \n",
       "1871-05-31           4.86      0.26       0.4  12.273812            5.333333   \n",
       "\n",
       "            Real Price  Real Dividend  Real Earnings  \\\n",
       "Year                                                   \n",
       "1871-01-31   91.371503       5.350584       8.231667   \n",
       "1871-02-28   89.862377       5.192048       7.987767   \n",
       "1871-03-31   90.714810       5.116237       7.871133   \n",
       "1871-04-30   96.806121       5.310040       8.169293   \n",
       "1871-05-31  101.565027       5.433520       8.359261   \n",
       "\n",
       "            Cyclically Adjusted PE Ratio  \n",
       "Year                                      \n",
       "1871-01-31                           NaN  \n",
       "1871-02-28                           NaN  \n",
       "1871-03-31                           NaN  \n",
       "1871-04-30                           NaN  \n",
       "1871-05-31                           NaN  "
      ]
     },
     "execution_count": 34,
     "metadata": {},
     "output_type": "execute_result"
    }
   ],
   "source": [
    "raw_sp_comp.head()"
   ]
  },
  {
   "cell_type": "code",
   "execution_count": 47,
   "metadata": {},
   "outputs": [],
   "source": [
    "def get_yale_sp_comp_data():\n",
    "    qdl.ApiConfig.api_key = config['QUANDL']['quandl_key']\n",
    "    raw_sp_comp = qdl.get(\"YALE/SPCOMP\", paginate=True)\n",
    "    finished_data = raw_sp_comp.reset_index()\n",
    "    return finished_data"
   ]
  },
  {
   "cell_type": "markdown",
   "metadata": {},
   "source": [
    "## Yale Individual Confidence"
   ]
  },
  {
   "cell_type": "markdown",
   "metadata": {},
   "source": [
    "## US Stock Market Confidence Indices, Individual (Source: Yale Department of Economics, Quandl Free API)\n",
    "    * Date: Timestamp - (Year-Month-Day, non-nullable).\n",
    "    * Valuation_Indices: Double - (nullable) - Confidence in Stock Market. \n",
    "    * Valuation_indices_Std_Err: Double - (nullable) - Standard error of Confidence Indices.\n",
    "    * Crash_confidence: Double - (nullable) - Crash Confidence in Stock Market.\n",
    "    * Crash_confidence_Std_Err: Double - (nullable) - CC standard error.\n",
    "    * Buy_on_Dips: Double - (nullable) - Confidence to buy during dips.\n",
    "    * Buy_on_Dips_Std_Err: Double - (nullable) - Standard error of BoD. "
   ]
  },
  {
   "cell_type": "code",
   "execution_count": 49,
   "metadata": {},
   "outputs": [],
   "source": [
    "raw_valuation_conf = qdl.get(\"YALE/US_CONF_INDEX_VAL_INDIV\", paginate=True).reset_index()\n",
    "raw_crash_conf = qdl.get(\"YALE/US_CONF_INDEX_CRASH_INDIV\", paginate=True).reset_index()\n",
    "raw_buy_dips = qdl.get(\"YALE/US_CONF_INDEX_BUY_INDIV\", paginate=True).reset_index()"
   ]
  },
  {
   "cell_type": "code",
   "execution_count": 51,
   "metadata": {},
   "outputs": [
    {
     "data": {
      "text/plain": [
       "Index(['Date', 'Index Value', 'Standard Error'], dtype='object')"
      ]
     },
     "execution_count": 51,
     "metadata": {},
     "output_type": "execute_result"
    }
   ],
   "source": [
    "raw_valuation_conf.columns"
   ]
  },
  {
   "cell_type": "code",
   "execution_count": 52,
   "metadata": {},
   "outputs": [],
   "source": [
    "val_conf = raw_valuation_conf.rename(columns={\"Index Value\": \"Index_Value_Valuation_Confidence\", \"Standard Error\": \"Standard_Error_Valuation\"})\n",
    "crash_conf = raw_crash_conf.rename(columns={\"Index Value\": \"Index_Value_Crash_Confidence\", \"Standard Error\": \"Standard_Error_Crash\"})\n",
    "bod_conf = raw_buy_dips.rename(columns={\"Index Value\": \"Index_Value_Buy_on_Dip_Confidence\", \"Standard Error\": \"Standard_Error_Buy_on_Dip\"})"
   ]
  },
  {
   "cell_type": "code",
   "execution_count": 53,
   "metadata": {},
   "outputs": [
    {
     "data": {
      "text/plain": [
       "Index(['Date', 'Index_Value_Valuation_Confidence', 'Standard_Error_Valuation'], dtype='object')"
      ]
     },
     "execution_count": 53,
     "metadata": {},
     "output_type": "execute_result"
    }
   ],
   "source": [
    "val_conf.columns"
   ]
  },
  {
   "cell_type": "code",
   "execution_count": 56,
   "metadata": {},
   "outputs": [],
   "source": [
    "confidence_ = pd.merge(val_conf, crash_conf, on=\"Date\")"
   ]
  },
  {
   "cell_type": "code",
   "execution_count": 58,
   "metadata": {},
   "outputs": [],
   "source": [
    "confidence_final = pd.merge(confidence_, bod_conf, on=\"Date\")"
   ]
  },
  {
   "cell_type": "code",
   "execution_count": 59,
   "metadata": {},
   "outputs": [
    {
     "data": {
      "text/html": [
       "<div>\n",
       "<style scoped>\n",
       "    .dataframe tbody tr th:only-of-type {\n",
       "        vertical-align: middle;\n",
       "    }\n",
       "\n",
       "    .dataframe tbody tr th {\n",
       "        vertical-align: top;\n",
       "    }\n",
       "\n",
       "    .dataframe thead th {\n",
       "        text-align: right;\n",
       "    }\n",
       "</style>\n",
       "<table border=\"1\" class=\"dataframe\">\n",
       "  <thead>\n",
       "    <tr style=\"text-align: right;\">\n",
       "      <th></th>\n",
       "      <th>Date</th>\n",
       "      <th>Index_Value_Valuation_Confidence</th>\n",
       "      <th>Standard_Error_Valuation</th>\n",
       "      <th>Index_Value_Crash_Confidence</th>\n",
       "      <th>Standard_Error_Crash</th>\n",
       "      <th>Index_Value_Buy_on_Dip_Confidence</th>\n",
       "      <th>Standard_Error_Buy_on_Dip</th>\n",
       "    </tr>\n",
       "  </thead>\n",
       "  <tbody>\n",
       "    <tr>\n",
       "      <th>0</th>\n",
       "      <td>1989-10-31</td>\n",
       "      <td>73.27</td>\n",
       "      <td>4.40</td>\n",
       "      <td>41.59</td>\n",
       "      <td>4.64</td>\n",
       "      <td>41.76</td>\n",
       "      <td>5.17</td>\n",
       "    </tr>\n",
       "    <tr>\n",
       "      <th>1</th>\n",
       "      <td>1996-10-31</td>\n",
       "      <td>51.97</td>\n",
       "      <td>4.43</td>\n",
       "      <td>33.08</td>\n",
       "      <td>4.13</td>\n",
       "      <td>53.04</td>\n",
       "      <td>4.65</td>\n",
       "    </tr>\n",
       "    <tr>\n",
       "      <th>2</th>\n",
       "      <td>1999-04-30</td>\n",
       "      <td>31.61</td>\n",
       "      <td>3.73</td>\n",
       "      <td>34.59</td>\n",
       "      <td>3.77</td>\n",
       "      <td>65.49</td>\n",
       "      <td>3.99</td>\n",
       "    </tr>\n",
       "    <tr>\n",
       "      <th>3</th>\n",
       "      <td>1999-10-31</td>\n",
       "      <td>34.83</td>\n",
       "      <td>5.05</td>\n",
       "      <td>32.29</td>\n",
       "      <td>4.77</td>\n",
       "      <td>53.42</td>\n",
       "      <td>5.84</td>\n",
       "    </tr>\n",
       "    <tr>\n",
       "      <th>4</th>\n",
       "      <td>2000-04-30</td>\n",
       "      <td>27.68</td>\n",
       "      <td>4.23</td>\n",
       "      <td>30.25</td>\n",
       "      <td>4.21</td>\n",
       "      <td>60.78</td>\n",
       "      <td>4.83</td>\n",
       "    </tr>\n",
       "  </tbody>\n",
       "</table>\n",
       "</div>"
      ],
      "text/plain": [
       "        Date  Index_Value_Valuation_Confidence  Standard_Error_Valuation  \\\n",
       "0 1989-10-31                             73.27                      4.40   \n",
       "1 1996-10-31                             51.97                      4.43   \n",
       "2 1999-04-30                             31.61                      3.73   \n",
       "3 1999-10-31                             34.83                      5.05   \n",
       "4 2000-04-30                             27.68                      4.23   \n",
       "\n",
       "   Index_Value_Crash_Confidence  Standard_Error_Crash  \\\n",
       "0                         41.59                  4.64   \n",
       "1                         33.08                  4.13   \n",
       "2                         34.59                  3.77   \n",
       "3                         32.29                  4.77   \n",
       "4                         30.25                  4.21   \n",
       "\n",
       "   Index_Value_Buy_on_Dip_Confidence  Standard_Error_Buy_on_Dip  \n",
       "0                              41.76                       5.17  \n",
       "1                              53.04                       4.65  \n",
       "2                              65.49                       3.99  \n",
       "3                              53.42                       5.84  \n",
       "4                              60.78                       4.83  "
      ]
     },
     "execution_count": 59,
     "metadata": {},
     "output_type": "execute_result"
    }
   ],
   "source": [
    "confidence_final.head()"
   ]
  },
  {
   "cell_type": "code",
   "execution_count": null,
   "metadata": {},
   "outputs": [],
   "source": [
    "def confidence_data():\n",
    "    qdl.ApiConfig.api_key = config['QUANDL']['quandl_key']\n",
    "    \n",
    "    # Make API call to get Confidence Tables:\n",
    "    \n",
    "    raw_valuation_conf = qdl.get(\"YALE/US_CONF_INDEX_VAL_INDIV\", paginate=True).reset_index()\n",
    "    raw_crash_conf = qdl.get(\"YALE/US_CONF_INDEX_CRASH_INDIV\", paginate=True).reset_index()\n",
    "    raw_buy_dips = qdl.get(\"YALE/US_CONF_INDEX_BUY_INDIV\", paginate=True).reset_index()\n",
    "    \n",
    "    # Rename the Columns of Each Table:\n",
    "    val_conf = raw_valuation_conf.rename(columns={\"Index Value\": \"Index_Value_Valuation_Confidence\", \"Standard Error\": \"Standard_Error_Valuation\"})\n",
    "    crash_conf = raw_crash_conf.rename(columns={\"Index Value\": \"Index_Value_Crash_Confidence\", \"Standard Error\": \"Standard_Error_Crash\"})\n",
    "    bod_conf = raw_buy_dips.rename(columns={\"Index Value\": \"Index_Value_Buy_on_Dip_Confidence\", \"Standard Error\": \"Standard_Error_Buy_on_Dip\"})\n",
    "    \n",
    "    #Merge Tables:\n",
    "    confidence_ = pd.merge(val_conf, crash_conf, on=\"Date\")\n",
    "    confidence_final = pd.merge(confidence_, bod_conf, on=\"Date\")\n",
    "    \n",
    "    #return final table:\n",
    "    return confidence_final"
   ]
  },
  {
   "cell_type": "markdown",
   "metadata": {},
   "source": [
    "## Ticker Multi Single Day History"
   ]
  },
  {
   "cell_type": "code",
   "execution_count": 62,
   "metadata": {},
   "outputs": [],
   "source": [
    "temp_url=\"https://api.worldtradingdata.com/api/v1/history_multi_single_day?symbol=AAPL,MSFT&date=2018-01-02&api_token=\""
   ]
  },
  {
   "cell_type": "code",
   "execution_count": 283,
   "metadata": {},
   "outputs": [],
   "source": [
    "ticker = 'MSFT'\n",
    "ticker2 = '^XTJ'\n",
    "ticker3 = 'AAPL'\n",
    "ticker4 = 'PFG'\n",
    "wt_api_key = config['WTD']['wtd_key']\n",
    "date = '2018-01-02'\n",
    "\n",
    "url1 = (f\"https://api.worldtradingdata.com/api/v1/history_multi_single_day?symbol={ticker},{ticker2}&date={date}&api_token={wt_api_key}\")\n",
    "url2 = (f\"https://api.worldtradingdata.com/api/v1/history_multi_single_day?symbol={ticker3},{ticker4}&date={date}&api_token={wt_api_key}\")"
   ]
  },
  {
   "cell_type": "code",
   "execution_count": 284,
   "metadata": {},
   "outputs": [
    {
     "name": "stdout",
     "output_type": "stream",
     "text": [
      "https://api.worldtradingdata.com/api/v1/history_multi_single_day?symbol=MSFT,^XTJ&date=2018-01-02&api_token=VuZ6i10kmCH8oVGvFiG3QWLiSrQeIbnAT9Y15U6MBygT9ypMxgOsn6oquVqU\n",
      "https://api.worldtradingdata.com/api/v1/history_multi_single_day?symbol=AAPL,PFG&date=2018-01-02&api_token=VuZ6i10kmCH8oVGvFiG3QWLiSrQeIbnAT9Y15U6MBygT9ypMxgOsn6oquVqU\n"
     ]
    }
   ],
   "source": [
    "print(url1)\n",
    "print(url2)"
   ]
  },
  {
   "cell_type": "code",
   "execution_count": 310,
   "metadata": {},
   "outputs": [],
   "source": [
    "request1 = req.get(url1).json()\n",
    "request2 = req.get(url2).json()"
   ]
  },
  {
   "cell_type": "code",
   "execution_count": 311,
   "metadata": {},
   "outputs": [
    {
     "name": "stdout",
     "output_type": "stream",
     "text": [
      "{\"date\": \"2018-01-02\", \"data\": {\"MSFT\": {\"open\": \"86.13\", \"close\": \"85.95\", \"high\": \"86.31\", \"low\": \"85.50\", \"volume\": \"22483797\"}, \"^XTJ\": {\"open\": \"1307.80\", \"close\": \"1316.80\", \"high\": \"1320.20\", \"low\": \"1307.50\", \"volume\": \"0\"}}}\n",
      "{\"date\": \"2018-01-02\", \"data\": {\"AAPL\": {\"open\": \"170.16\", \"close\": \"172.26\", \"high\": \"172.30\", \"low\": \"169.26\", \"volume\": \"25555934\"}, \"PFG\": {\"open\": \"71.18\", \"close\": \"70.38\", \"high\": \"71.32\", \"low\": \"69.92\", \"volume\": \"760256\"}}}\n"
     ]
    }
   ],
   "source": [
    "print(json.dumps(request1))\n",
    "print(json.dumps(request2))"
   ]
  },
  {
   "cell_type": "code",
   "execution_count": 312,
   "metadata": {},
   "outputs": [],
   "source": [
    "newdf1 = pd.DataFrame(request1)\n",
    "newdf2 = pd.DataFrame(request2)"
   ]
  },
  {
   "cell_type": "code",
   "execution_count": 290,
   "metadata": {},
   "outputs": [
    {
     "data": {
      "text/html": [
       "<div>\n",
       "<style scoped>\n",
       "    .dataframe tbody tr th:only-of-type {\n",
       "        vertical-align: middle;\n",
       "    }\n",
       "\n",
       "    .dataframe tbody tr th {\n",
       "        vertical-align: top;\n",
       "    }\n",
       "\n",
       "    .dataframe thead th {\n",
       "        text-align: right;\n",
       "    }\n",
       "</style>\n",
       "<table border=\"1\" class=\"dataframe\">\n",
       "  <thead>\n",
       "    <tr style=\"text-align: right;\">\n",
       "      <th></th>\n",
       "      <th>date</th>\n",
       "      <th>data</th>\n",
       "    </tr>\n",
       "  </thead>\n",
       "  <tbody>\n",
       "    <tr>\n",
       "      <th>MSFT</th>\n",
       "      <td>2018-01-02</td>\n",
       "      <td>{'open': '86.13', 'close': '85.95', 'high': '8...</td>\n",
       "    </tr>\n",
       "    <tr>\n",
       "      <th>^XTJ</th>\n",
       "      <td>2018-01-02</td>\n",
       "      <td>{'open': '1307.80', 'close': '1316.80', 'high'...</td>\n",
       "    </tr>\n",
       "  </tbody>\n",
       "</table>\n",
       "</div>"
      ],
      "text/plain": [
       "            date                                               data\n",
       "MSFT  2018-01-02  {'open': '86.13', 'close': '85.95', 'high': '8...\n",
       "^XTJ  2018-01-02  {'open': '1307.80', 'close': '1316.80', 'high'..."
      ]
     },
     "execution_count": 290,
     "metadata": {},
     "output_type": "execute_result"
    }
   ],
   "source": [
    "newdf1.head()"
   ]
  },
  {
   "cell_type": "code",
   "execution_count": 291,
   "metadata": {},
   "outputs": [
    {
     "data": {
      "text/html": [
       "<div>\n",
       "<style scoped>\n",
       "    .dataframe tbody tr th:only-of-type {\n",
       "        vertical-align: middle;\n",
       "    }\n",
       "\n",
       "    .dataframe tbody tr th {\n",
       "        vertical-align: top;\n",
       "    }\n",
       "\n",
       "    .dataframe thead th {\n",
       "        text-align: right;\n",
       "    }\n",
       "</style>\n",
       "<table border=\"1\" class=\"dataframe\">\n",
       "  <thead>\n",
       "    <tr style=\"text-align: right;\">\n",
       "      <th></th>\n",
       "      <th>date</th>\n",
       "      <th>data</th>\n",
       "    </tr>\n",
       "  </thead>\n",
       "  <tbody>\n",
       "    <tr>\n",
       "      <th>MSFT</th>\n",
       "      <td>2018-01-02</td>\n",
       "      <td>{'open': '86.13', 'close': '85.95', 'high': '8...</td>\n",
       "    </tr>\n",
       "    <tr>\n",
       "      <th>^XTJ</th>\n",
       "      <td>2018-01-02</td>\n",
       "      <td>{'open': '1307.80', 'close': '1316.80', 'high'...</td>\n",
       "    </tr>\n",
       "    <tr>\n",
       "      <th>AAPL</th>\n",
       "      <td>2018-01-02</td>\n",
       "      <td>{'open': '170.16', 'close': '172.26', 'high': ...</td>\n",
       "    </tr>\n",
       "    <tr>\n",
       "      <th>PFG</th>\n",
       "      <td>2018-01-02</td>\n",
       "      <td>{'open': '71.18', 'close': '70.38', 'high': '7...</td>\n",
       "    </tr>\n",
       "  </tbody>\n",
       "</table>\n",
       "</div>"
      ],
      "text/plain": [
       "            date                                               data\n",
       "MSFT  2018-01-02  {'open': '86.13', 'close': '85.95', 'high': '8...\n",
       "^XTJ  2018-01-02  {'open': '1307.80', 'close': '1316.80', 'high'...\n",
       "AAPL  2018-01-02  {'open': '170.16', 'close': '172.26', 'high': ...\n",
       "PFG   2018-01-02  {'open': '71.18', 'close': '70.38', 'high': '7..."
      ]
     },
     "execution_count": 291,
     "metadata": {},
     "output_type": "execute_result"
    }
   ],
   "source": [
    "newdf1.append(newdf2)"
   ]
  },
  {
   "cell_type": "code",
   "execution_count": 122,
   "metadata": {},
   "outputs": [
    {
     "data": {
      "text/plain": [
       "'AAPL'"
      ]
     },
     "execution_count": 122,
     "metadata": {},
     "output_type": "execute_result"
    }
   ],
   "source": [
    "# lst = list(request['data'].keys())\n",
    "# lst[0]"
   ]
  },
  {
   "cell_type": "code",
   "execution_count": 296,
   "metadata": {},
   "outputs": [],
   "source": [
    "new_df = pd.concat([newdf1.drop(['data'], axis=1), newdf1['data'].apply(pd.Series)], axis=1).reset_index()"
   ]
  },
  {
   "cell_type": "code",
   "execution_count": 297,
   "metadata": {},
   "outputs": [
    {
     "data": {
      "text/html": [
       "<div>\n",
       "<style scoped>\n",
       "    .dataframe tbody tr th:only-of-type {\n",
       "        vertical-align: middle;\n",
       "    }\n",
       "\n",
       "    .dataframe tbody tr th {\n",
       "        vertical-align: top;\n",
       "    }\n",
       "\n",
       "    .dataframe thead th {\n",
       "        text-align: right;\n",
       "    }\n",
       "</style>\n",
       "<table border=\"1\" class=\"dataframe\">\n",
       "  <thead>\n",
       "    <tr style=\"text-align: right;\">\n",
       "      <th></th>\n",
       "      <th>date</th>\n",
       "      <th>open</th>\n",
       "      <th>close</th>\n",
       "      <th>high</th>\n",
       "      <th>low</th>\n",
       "      <th>volume</th>\n",
       "    </tr>\n",
       "  </thead>\n",
       "  <tbody>\n",
       "    <tr>\n",
       "      <th>MSFT</th>\n",
       "      <td>2018-01-02</td>\n",
       "      <td>86.13</td>\n",
       "      <td>85.95</td>\n",
       "      <td>86.31</td>\n",
       "      <td>85.50</td>\n",
       "      <td>22483797</td>\n",
       "    </tr>\n",
       "    <tr>\n",
       "      <th>^XTJ</th>\n",
       "      <td>2018-01-02</td>\n",
       "      <td>1307.80</td>\n",
       "      <td>1316.80</td>\n",
       "      <td>1320.20</td>\n",
       "      <td>1307.50</td>\n",
       "      <td>0</td>\n",
       "    </tr>\n",
       "  </tbody>\n",
       "</table>\n",
       "</div>"
      ],
      "text/plain": [
       "            date     open    close     high      low    volume\n",
       "MSFT  2018-01-02    86.13    85.95    86.31    85.50  22483797\n",
       "^XTJ  2018-01-02  1307.80  1316.80  1320.20  1307.50         0"
      ]
     },
     "execution_count": 297,
     "metadata": {},
     "output_type": "execute_result"
    }
   ],
   "source": [
    "new_df.head()"
   ]
  },
  {
   "cell_type": "code",
   "execution_count": 293,
   "metadata": {},
   "outputs": [],
   "source": [
    "ticker_df = pd.read_csv('../data/WIKI_metadata.csv')\n",
    "ticker_lst = ticker_df['code']"
   ]
  },
  {
   "cell_type": "code",
   "execution_count": 161,
   "metadata": {},
   "outputs": [],
   "source": [
    "def get_ticker_data():\n",
    "    #Input API Keys\n",
    "    wt_api_key = config['WTD']['wtd_key']\n",
    "    qdl.ApiConfig.api_key = config['QUANDL']['quandl_key']\n",
    "    \n",
    "    #Make list of ticker symbols, convert to string\n",
    "    ticker_df = pd.read_csv('../data/WIKI_metadata.csv')\n",
    "    ticker_lst = ticker_df['code']\n",
    "    ticker_str = ','.join(ticker_lst)\n",
    "    \n",
    "    #Get list of Dates, utilize quandl API for specific dates needed\n",
    "    investor_sentiment_raw = qdl.get(\"AAII/AAII_SENTIMENT\").reset_index()\n",
    "    dates = investor_sentiment_raw['Date']\n",
    "    date_lst = [date.strftime('%Y-%m-%d') for date in dates]\n",
    "    \n",
    "    #setup df\n",
    "    final_df = pd.DataFrame()\n",
    "    \n",
    "    #For each date in dates, get price data for each ticker\n",
    "    for date in dates:\n",
    "        url = (f\"https://api.worldtradingdata.com/api/v1/history_multi_single_day?symbol={ticker_str}&date={date}&api_token={wt_api_key}\")\n",
    "        request = req.get(url)\n",
    "        raw_df = pd.DataFrame(request)\n",
    "        processed_df = pd.concat([df.drop(['data'], axis=1), df['data'].apply(pd.Series)], axis=1).reset_index()\n",
    "        final_df.append(processed_df)\n",
    "        \n",
    "    #return dataframe\n",
    "    return final_df"
   ]
  },
  {
   "cell_type": "code",
   "execution_count": 300,
   "metadata": {},
   "outputs": [],
   "source": [
    "def get_ticker_data():\n",
    "    #Input API Keys\n",
    "    wt_api_key = config['WTD']['wtd_key']\n",
    "    qdl.ApiConfig.api_key = config['QUANDL']['quandl_key']\n",
    "    \n",
    "    #Make list of ticker symbols\n",
    "    ticker_df = pd.read_csv('../data/WIKI_metadata.csv')\n",
    "    ticker_lst = ticker_df['code']\n",
    "    \n",
    "    #Get List of Dates, utilize quandl API for specific dtes needed\n",
    "    date_raw = qdl.get(\"AAII/AAII_SENTIMENT\").reset_index()\n",
    "    dates = date_raw['Date']\n",
    "    date_lst = [date.strftime('%Y-%m-%d') for date in dates]\n",
    "    \n",
    "    raw_full_df = pd.DataFrame()\n",
    "    \n",
    "    #Loop through tickers and dates, append to dataframe\n",
    "    for date in date_lst:\n",
    "        for ticker in ticker_lst:\n",
    "            url = (f\"https://api.worldtradingdata.com/api/v1/history_multi_single_day?symbol={ticker}&date={date}&api_token={wt_api_key}\")\n",
    "            request = req.get(url).json()\n",
    "            raw_df = pd.DataFrame(request)\n",
    "            raw_full_df.append(raw_df)\n",
    "            \n",
    "    #Return a new processed dataframe\n",
    "    processed_df = pd.concat([raw_full_df.drop(['data'], axis=1), raw_full_df['data'].apply(pd.Series)], axis=1).reset_index()\n",
    "    \n",
    "    return processed_df\n",
    "    "
   ]
  },
  {
   "cell_type": "code",
   "execution_count": 302,
   "metadata": {},
   "outputs": [],
   "source": [
    "wt_api_key = config['WTD']['wtd_key']\n",
    "qdl.ApiConfig.api_key = config['QUANDL']['quandl_key']\n",
    "    \n",
    "    #Make list of ticker symbols\n",
    "ticker_df = pd.read_csv('../data/WIKI_metadata.csv')\n",
    "ticker_lst = ticker_df['code']\n",
    "    \n",
    "    #Get List of Dates, utilize quandl API for specific dtes needed\n",
    "date_raw = qdl.get(\"AAII/AAII_SENTIMENT\").reset_index()\n",
    "dates = date_raw['Date']\n",
    "date_lst = [date.strftime('%Y-%m-%d') for date in dates]\n",
    "    \n",
    "raw_full_df = pd.DataFrame()"
   ]
  },
  {
   "cell_type": "code",
   "execution_count": null,
   "metadata": {},
   "outputs": [],
   "source": [
    "for date in date_lst:\n",
    "    for ticker in ticker_lst:\n",
    "        url = (f\"https://api.worldtradingdata.com/api/v1/history_multi_single_day?symbol={ticker}&date={date}&api_token={wt_api_key}\")\n",
    "        request = req.get(url).json()\n",
    "        raw_df = pd.DataFrame(request, columns=[0])\n",
    "        raw_full_df.append(raw_df)"
   ]
  },
  {
   "cell_type": "markdown",
   "metadata": {},
   "source": [
    "## Quick test to see if dataframe to redshift load works. "
   ]
  },
  {
   "cell_type": "code",
   "execution_count": 9,
   "metadata": {},
   "outputs": [],
   "source": [
    "def loadQuandl_yaleConf(conn, redshift_table):\n",
    "    \"\"\"\n",
    "    Function that goes out, pulls indivdiual confidence data for valuation, crashes, and buy on dips. Combines into dataframe, and uploads to Redshift\n",
    "    \n",
    "    Parameters:\n",
    "    \n",
    "    conn (Database Connection): A connection to the Redshift Database.\n",
    "    \n",
    "    redshift_table (str): The name of the table we are loading data too.\n",
    "    \n",
    "    **kwargs (kwargs): Needed for Python Operator in Airflow to set parameters.\n",
    "    \n",
    "    Returns:\n",
    "    None\n",
    "    \n",
    "    \"\"\"\n",
    "    #log.info('Beginning implementation of Quandl-Redshift Load for Yale S&P Data.')\n",
    "    \n",
    "    #Make API call to create dataframes with confidence index data on valuations, crashes, and buy on dips. \n",
    "    raw_valuation_conf = qdl.get(\"YALE/US_CONF_INDEX_VAL_INDIV\", paginate=True).reset_index()\n",
    "    raw_crash_conf = qdl.get(\"YALE/US_CONF_INDEX_CRASH_INDIV\", paginate=True).reset_index()\n",
    "    raw_buy_dips = qdl.get(\"YALE/US_CONF_INDEX_BUY_INDIV\", paginate=True).reset_index()\n",
    "    \n",
    "    #Map columns of dataframes to new names for better data clarity.\n",
    "    val_conf = raw_valuation_conf.rename(columns={\"Index Value\": \"Index_Value_Valuation_Confidence\", \"Standard Error\": \"Standard_Error_Valuation\"})\n",
    "    crash_conf = raw_crash_conf.rename(columns={\"Index Value\": \"Index_Value_Crash_Confidence\", \"Standard Error\": \"Standard_Error_Crash\"})\n",
    "    bod_conf = raw_buy_dips.rename(columns={\"Index Value\": \"Index_Value_Buy_on_Dip_Confidence\", \"Standard Error\": \"Standard_Error_Buy_on_Dip\"})\n",
    "\n",
    "    #Merge data into one final dataframe.\n",
    "    confidence_ = pd.merge(val_conf, crash_conf, on=\"Date\")\n",
    "    confidence_final = pd.merge(confidence_, bod_conf, on=\"Date\")\n",
    "    \n",
    "    #Send to Redshift\n",
    "    confidence_final.to_sql(redshift_table, conn, index=False, if_exists='replace')\n",
    "    #log.info(f\"Successfully loaded Individual's Confidence data to {table}.\")"
   ]
  },
  {
   "cell_type": "code",
   "execution_count": 10,
   "metadata": {},
   "outputs": [],
   "source": [
    "from sqlalchemy import create_engine\n",
    "conn = create_engine(\"\")"
   ]
  },
  {
   "cell_type": "code",
   "execution_count": 11,
   "metadata": {},
   "outputs": [],
   "source": [
    "loadQuandl_yaleConf(conn, \"us_stock_market_confidence_indices\")"
   ]
  },
  {
   "cell_type": "code",
   "execution_count": null,
   "metadata": {},
   "outputs": [],
   "source": []
  }
 ],
 "metadata": {
  "kernelspec": {
   "display_name": "Python 3",
   "language": "python",
   "name": "python3"
  },
  "language_info": {
   "codemirror_mode": {
    "name": "ipython",
    "version": 3
   },
   "file_extension": ".py",
   "mimetype": "text/x-python",
   "name": "python",
   "nbconvert_exporter": "python",
   "pygments_lexer": "ipython3",
   "version": "3.7.3"
  }
 },
 "nbformat": 4,
 "nbformat_minor": 4
}
